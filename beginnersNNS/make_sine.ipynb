{
 "cells": [
  {
   "cell_type": "code",
   "execution_count": 1,
   "metadata": {},
   "outputs": [
    {
     "name": "stderr",
     "output_type": "stream",
     "text": [
      "Using TensorFlow backend.\n"
     ]
    }
   ],
   "source": [
    "# ESTIMATING sin function using neural net\n",
    "from __future__ import absolute_import, division, print_function, unicode_literals\n",
    "import tensorflow as tf\n",
    "import numpy as np\n",
    "from keras.models import Sequential\n",
    "from keras.layers import Dense"
   ]
  },
  {
   "cell_type": "code",
   "execution_count": 2,
   "metadata": {},
   "outputs": [],
   "source": [
    "# Generating samples in [0,2pi]\n",
    "X_train = np.random.rand(10000)*2*np.pi\n",
    "X_test = np.random.rand(1000)*2*np.pi"
   ]
  },
  {
   "cell_type": "code",
   "execution_count": 3,
   "metadata": {},
   "outputs": [],
   "source": [
    "# Generating Labels\n",
    "Y_train = np.sin(X_train)\n",
    "Y_test = np.sin(X_test)"
   ]
  },
  {
   "cell_type": "code",
   "execution_count": 4,
   "metadata": {},
   "outputs": [
    {
     "data": {
      "text/plain": [
       "array([[4.32364376],\n",
       "       [4.61443658],\n",
       "       [5.94232395],\n",
       "       ...,\n",
       "       [4.3912092 ],\n",
       "       [3.13152556],\n",
       "       [5.97750052]])"
      ]
     },
     "execution_count": 4,
     "metadata": {},
     "output_type": "execute_result"
    }
   ],
   "source": [
    "X_test.reshape((1000, 1))\n",
    "X_train.reshape((10000, 1))"
   ]
  },
  {
   "cell_type": "code",
   "execution_count": 5,
   "metadata": {},
   "outputs": [
    {
     "name": "stderr",
     "output_type": "stream",
     "text": [
      "WARNING: Logging before flag parsing goes to stderr.\n",
      "W1030 18:11:05.351939 140205340387072 deprecation_wrapper.py:119] From /usr/local/lib/python3.5/dist-packages/keras/backend/tensorflow_backend.py:74: The name tf.get_default_graph is deprecated. Please use tf.compat.v1.get_default_graph instead.\n",
      "\n",
      "W1030 18:11:05.590482 140205340387072 deprecation_wrapper.py:119] From /usr/local/lib/python3.5/dist-packages/keras/backend/tensorflow_backend.py:517: The name tf.placeholder is deprecated. Please use tf.compat.v1.placeholder instead.\n",
      "\n",
      "W1030 18:11:05.678549 140205340387072 deprecation_wrapper.py:119] From /usr/local/lib/python3.5/dist-packages/keras/backend/tensorflow_backend.py:4115: The name tf.random_normal is deprecated. Please use tf.random.normal instead.\n",
      "\n",
      "W1030 18:11:05.786674 140205340387072 deprecation_wrapper.py:119] From /usr/local/lib/python3.5/dist-packages/keras/optimizers.py:790: The name tf.train.Optimizer is deprecated. Please use tf.compat.v1.train.Optimizer instead.\n",
      "\n"
     ]
    }
   ],
   "source": [
    "# create model\n",
    "model = Sequential()\n",
    "model.add(Dense(128, input_dim=1, kernel_initializer='normal', activation='sigmoid'))\n",
    "model.add(Dense(64, input_dim=128, kernel_initializer='normal', activation='sigmoid'))\n",
    "model.add(Dense(1, kernel_initializer='normal', activation='tanh'))\n",
    "# Compile model\n",
    "model.compile(loss='mean_squared_error', optimizer='adam')"
   ]
  },
  {
   "cell_type": "code",
   "execution_count": 16,
   "metadata": {},
   "outputs": [
    {
     "name": "stdout",
     "output_type": "stream",
     "text": [
      "Epoch 1/50\n",
      "10000/10000 [==============================] - 0s 33us/step - loss: 2.4301e-05\n",
      "Epoch 2/50\n",
      "10000/10000 [==============================] - 0s 31us/step - loss: 8.1282e-05\n",
      "Epoch 3/50\n",
      "10000/10000 [==============================] - 0s 30us/step - loss: 1.3386e-05\n",
      "Epoch 4/50\n",
      "10000/10000 [==============================] - 0s 34us/step - loss: 1.5301e-05\n",
      "Epoch 5/50\n",
      "10000/10000 [==============================] - 0s 30us/step - loss: 1.3450e-05\n",
      "Epoch 6/50\n",
      "10000/10000 [==============================] - 0s 29us/step - loss: 2.1385e-05\n",
      "Epoch 7/50\n",
      "10000/10000 [==============================] - 0s 30us/step - loss: 2.3629e-05\n",
      "Epoch 8/50\n",
      "10000/10000 [==============================] - 0s 30us/step - loss: 1.9535e-05\n",
      "Epoch 9/50\n",
      "10000/10000 [==============================] - 0s 37us/step - loss: 2.4018e-05\n",
      "Epoch 10/50\n",
      "10000/10000 [==============================] - 0s 34us/step - loss: 1.6848e-05\n",
      "Epoch 11/50\n",
      "10000/10000 [==============================] - 0s 40us/step - loss: 1.8317e-05\n",
      "Epoch 12/50\n",
      "10000/10000 [==============================] - 0s 30us/step - loss: 2.1698e-05\n",
      "Epoch 13/50\n",
      "10000/10000 [==============================] - 0s 39us/step - loss: 5.9480e-05\n",
      "Epoch 14/50\n",
      "10000/10000 [==============================] - 0s 30us/step - loss: 9.8587e-06\n",
      "Epoch 15/50\n",
      "10000/10000 [==============================] - 0s 31us/step - loss: 3.3720e-05\n",
      "Epoch 16/50\n",
      "10000/10000 [==============================] - 0s 32us/step - loss: 1.3101e-05\n",
      "Epoch 17/50\n",
      "10000/10000 [==============================] - 0s 31us/step - loss: 1.4731e-05\n",
      "Epoch 18/50\n",
      "10000/10000 [==============================] - 0s 31us/step - loss: 1.6740e-05\n",
      "Epoch 19/50\n",
      "10000/10000 [==============================] - 0s 31us/step - loss: 1.0748e-05\n",
      "Epoch 20/50\n",
      "10000/10000 [==============================] - 0s 31us/step - loss: 4.6322e-05\n",
      "Epoch 21/50\n",
      "10000/10000 [==============================] - 0s 35us/step - loss: 2.3470e-05\n",
      "Epoch 22/50\n",
      "10000/10000 [==============================] - 0s 32us/step - loss: 9.2844e-06\n",
      "Epoch 23/50\n",
      "10000/10000 [==============================] - 0s 30us/step - loss: 6.3955e-05\n",
      "Epoch 24/50\n",
      "10000/10000 [==============================] - 0s 31us/step - loss: 8.8704e-06\n",
      "Epoch 25/50\n",
      "10000/10000 [==============================] - 0s 31us/step - loss: 1.1555e-05\n",
      "Epoch 26/50\n",
      "10000/10000 [==============================] - 0s 32us/step - loss: 1.0317e-05\n",
      "Epoch 27/50\n",
      "10000/10000 [==============================] - 0s 32us/step - loss: 1.3693e-05\n",
      "Epoch 28/50\n",
      "10000/10000 [==============================] - 0s 29us/step - loss: 7.8457e-05\n",
      "Epoch 29/50\n",
      "10000/10000 [==============================] - 0s 30us/step - loss: 9.3917e-06\n",
      "Epoch 30/50\n",
      "10000/10000 [==============================] - 0s 34us/step - loss: 1.0668e-05\n",
      "Epoch 31/50\n",
      "10000/10000 [==============================] - 0s 34us/step - loss: 9.6284e-06\n",
      "Epoch 32/50\n",
      "10000/10000 [==============================] - 0s 35us/step - loss: 8.4141e-06\n",
      "Epoch 33/50\n",
      "10000/10000 [==============================] - 0s 32us/step - loss: 8.8775e-05\n",
      "Epoch 34/50\n",
      "10000/10000 [==============================] - 0s 40us/step - loss: 1.4073e-05\n",
      "Epoch 35/50\n",
      "10000/10000 [==============================] - 0s 30us/step - loss: 7.6598e-06\n",
      "Epoch 36/50\n",
      "10000/10000 [==============================] - 0s 32us/step - loss: 1.3832e-05\n",
      "Epoch 37/50\n",
      "10000/10000 [==============================] - 0s 38us/step - loss: 1.2012e-05\n",
      "Epoch 38/50\n",
      "10000/10000 [==============================] - 0s 38us/step - loss: 1.0952e-05\n",
      "Epoch 39/50\n",
      "10000/10000 [==============================] - 0s 35us/step - loss: 1.7761e-05\n",
      "Epoch 40/50\n",
      "10000/10000 [==============================] - 0s 32us/step - loss: 9.9638e-06\n",
      "Epoch 41/50\n",
      "10000/10000 [==============================] - 0s 34us/step - loss: 3.3157e-05\n",
      "Epoch 42/50\n",
      "10000/10000 [==============================] - 0s 34us/step - loss: 1.5584e-05\n",
      "Epoch 43/50\n",
      "10000/10000 [==============================] - 0s 35us/step - loss: 4.7269e-05\n",
      "Epoch 44/50\n",
      "10000/10000 [==============================] - 0s 34us/step - loss: 2.0758e-05\n",
      "Epoch 45/50\n",
      "10000/10000 [==============================] - 0s 32us/step - loss: 1.6876e-05\n",
      "Epoch 46/50\n",
      "10000/10000 [==============================] - 0s 35us/step - loss: 1.1687e-05\n",
      "Epoch 47/50\n",
      "10000/10000 [==============================] - 0s 31us/step - loss: 7.8906e-06\n",
      "Epoch 48/50\n",
      "10000/10000 [==============================] - 0s 35us/step - loss: 1.2477e-04\n",
      "Epoch 49/50\n",
      "10000/10000 [==============================] - 0s 32us/step - loss: 1.1941e-05\n",
      "Epoch 50/50\n",
      "10000/10000 [==============================] - 0s 31us/step - loss: 7.3305e-06\n"
     ]
    },
    {
     "data": {
      "text/plain": [
       "8.817072128294967e-06"
      ]
     },
     "execution_count": 16,
     "metadata": {},
     "output_type": "execute_result"
    }
   ],
   "source": [
    "# Model fitting and evaluation\n",
    "model.fit(X_train, Y_train, epochs=50)\n",
    "model.evaluate(X_test, Y_test, verbose=2)"
   ]
  },
  {
   "cell_type": "code",
   "execution_count": 17,
   "metadata": {
    "scrolled": true
   },
   "outputs": [
    {
     "data": {
      "text/plain": [
       "array([[-0.00322479],\n",
       "       [ 0.9942644 ],\n",
       "       [ 0.4968879 ]], dtype=float32)"
      ]
     },
     "execution_count": 17,
     "metadata": {},
     "output_type": "execute_result"
    }
   ],
   "source": [
    "x = [np.pi, np.pi/2, np.pi/6]\n",
    "model.predict(x)"
   ]
  },
  {
   "cell_type": "code",
   "execution_count": 25,
   "metadata": {},
   "outputs": [
    {
     "name": "stdout",
     "output_type": "stream",
     "text": [
      "Test Accuracy is 96.7%\n"
     ]
    }
   ],
   "source": [
    "# CHECKING ACCURACY (correct prediction --> error less than 5%)\n",
    "Y_pred = model.predict(X_test)\n",
    "\n",
    "Y_test.reshape((1000, 1))\n",
    "Y_test = np.array(Y_test)\n",
    "\n",
    "Y_pred = np.array(Y_pred)\n",
    "\n",
    "diff = 0\n",
    "for i in range(1000):\n",
    "    diff += int(abs(Y_pred[i]-Y_test[i])/abs(Y_test[i])<0.05)\n",
    "diffperc = diff/1000\n",
    "\n",
    "# ERROR in percentage: \n",
    "percs = diffperc*100\n",
    "print(\"Test Accuracy is \"+str(percs)+\"%\")"
   ]
  },
  {
   "cell_type": "code",
   "execution_count": 26,
   "metadata": {},
   "outputs": [
    {
     "name": "stdout",
     "output_type": "stream",
     "text": [
      "Train Accuracy is 97.3%\n"
     ]
    }
   ],
   "source": [
    "Y_pred = model.predict(X_train)\n",
    "\n",
    "Y_train.reshape((10000, 1))\n",
    "Y_train = np.array(Y_train)\n",
    "\n",
    "Y_pred = np.array(Y_pred)\n",
    "\n",
    "diff = 0\n",
    "for i in range(10000):\n",
    "    diff += int(abs(Y_pred[i]-Y_train[i])/abs(Y_train[i])<0.05)\n",
    "diffperc = diff/10000\n",
    "\n",
    "# ERROR in percentage: \n",
    "percs = diffperc*100\n",
    "print(\"Train Accuracy is \"+str(percs)+\"%\")"
   ]
  },
  {
   "cell_type": "code",
   "execution_count": null,
   "metadata": {},
   "outputs": [],
   "source": []
  }
 ],
 "metadata": {
  "kernelspec": {
   "display_name": "Python 3",
   "language": "python",
   "name": "python3"
  },
  "language_info": {
   "codemirror_mode": {
    "name": "ipython",
    "version": 3
   },
   "file_extension": ".py",
   "mimetype": "text/x-python",
   "name": "python",
   "nbconvert_exporter": "python",
   "pygments_lexer": "ipython3",
   "version": "3.5.2"
  }
 },
 "nbformat": 4,
 "nbformat_minor": 2
}
